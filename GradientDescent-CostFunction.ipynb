{
 "cells": [
  {
   "cell_type": "markdown",
   "metadata": {},
   "source": [
    "Part A - Logistic Regression [20 points]\n",
    "\n",
    "Implement logistic regression using gradient descent in Python. Once you\n",
    "have written the code, test your model by fitting it to the dataset given below.\n",
    "For this stage, do not implement regularization, cross validation, the cost\n",
    "function or use the sklearn library until later. The purpose of this part of the\n",
    "coursework is to get your logistic regression code running and to validate\n",
    "your model’s results with a small dataset with a known solution. Refer to the\n",
    "lecture slides on Logistic Regression to see the solution you should be\n",
    "obtaining with your model.\n",
    "\n",
    "The data to test your model on is as follows:\n",
    "X = [[0.50],[0.75],[1.00],[1.25],[1.50],[1.75],[1.75],[2.00],[2.25],[2.50],[2.75],\n",
    "[3.00],[3.25],[3.50],[4.00],[4.25],[4.50],[4.75],[5.00],[5.50]]\n",
    "Y = [0,0,0,0,0,0,1,0,1,0,1,0,1,0,1,1,1,1,1,1]\n",
    "\n",
    "Submit a pdf of your Jupyter notebook with answers to the following\n",
    "questions. Your pdf should include markdown boxes with text answering the\n",
    "questions and specifying which part you are answering as well as your code\n",
    "and figures.\n",
    "\n",
    "1. Implementing the BATCH gradient descent algorithm. What are the optimal\n",
    "values for theta0 and theta1 learned by your implementation for logistic\n",
    "regression on the data given?\n",
    "2. After how many iterations and for what value of alpha did your algorithm\n",
    "converge? "
   ]
  },
  {
   "cell_type": "code",
   "execution_count": 43,
   "metadata": {
    "collapsed": false,
    "scrolled": true
   },
   "outputs": [
    {
     "name": "stdout",
     "output_type": "stream",
     "text": [
      "[-0.05    -0.03125]\n"
     ]
    }
   ],
   "source": [
    "import numpy as np\n",
    "\n",
    "X = [[0.50],[0.75]]\n",
    "Y = [0, 0]\n",
    "\n",
    "# turn both arrays into numpy arrays\n",
    "X = np.array(X)\n",
    "Y = np.array(Y)\n",
    "\n",
    "# add a column of ones to the dataset\n",
    "X = np.concatenate((np.ones((X.shape[0], 1)), X), axis=1)\n",
    "\n",
    "# hypothesis function:\n",
    "# take in a theta and dataset X as parameter\n",
    "# multiply the dataset by the theta\n",
    "# return the sigmoid (logistic) function as hypothesis\n",
    "def hypothesis(theta, X):\n",
    "    z = np.dot(X, theta)\n",
    "    return 1 / (1 + np.exp(-z))\n",
    "\n",
    "# print params function:\n",
    "# take in the num. of iteratations, the value of alpha and thetasw\n",
    "# return whether the algorithm converged and their values if it did\n",
    "def printParams(numIterations, alpha, theta):\n",
    "    if numIterations < 0:\n",
    "        print \"The algorithm did not converge.\"\n",
    "    else:\n",
    "        print \"The algorithm converged in \" + str(numIterations) + \" iterations\"\n",
    "        print \"The optimal theta values are: \" + str(theta)\n",
    "        print \"The value of alpha is: \" + str(alpha)\n",
    "\n",
    "def gradientDescent(alpha):\n",
    "    \n",
    "    # set the two initial theta values to 0\n",
    "    theta = np.array([0, 0], dtype = float)\n",
    "    \n",
    "    # set converged to False (so loop can be used)\n",
    "    converged = False\n",
    "    \n",
    "    # set the number of iterations to 0 (will be increased in the loop)\n",
    "    numIterations = 0\n",
    "    \n",
    "    # while loop is active as long as convergence criteria has not been met and num of iterations are under 10,000 (can be changed)\n",
    "    while not converged and numIterations < 1:\n",
    "        # store the theta in a prevThetas array\n",
    "        prevThetas = np.array(theta)\n",
    "        \n",
    "        # apply the gradient descent formula to update the theta\n",
    "        theta = theta - alpha * (hypothesis(theta, X) - Y).dot(X)\n",
    "        print theta\n",
    "        \n",
    "        # convergence criteria set to 0.000001\n",
    "        converged = abs(np.max(theta - prevThetas)) < 0.000001\n",
    "        \n",
    "        # increase the total number of iterations by one\n",
    "        numIterations += 1\n",
    "        \n",
    "    # if the algorithm did not converge, set the value of num. iterations to -1\n",
    "    if not converged:\n",
    "        numIterations = -1\n",
    "    \n",
    "    # return the value of theta and the number of iterations\n",
    "    return theta, numIterations\n",
    "\n",
    "alpha = 0.05 # set the alpha value (can be changed)\n",
    "theta, numIts = gradientDescent(alpha)"
   ]
  },
  {
   "cell_type": "markdown",
   "metadata": {},
   "source": [
    "## Part A - Question 1\n",
    "\n",
    "Run the code below to see the optimal theta values learned by my implementation of logistic regression and gradient descent.  \n",
    "(Make sure to run the code above first to initialize the values and get an output)  "
   ]
  },
  {
   "cell_type": "code",
   "execution_count": 336,
   "metadata": {
    "collapsed": false,
    "scrolled": false
   },
   "outputs": [
    {
     "name": "stdout",
     "output_type": "stream",
     "text": [
      "The optimal theta values are: [-4.07751502  1.50457826]\n"
     ]
    }
   ],
   "source": [
    "if numIts < 0:\n",
    "    print \"The algorithm did not converge.\"\n",
    "else:\n",
    "    print \"The optimal theta values are: \" + str(theta)"
   ]
  },
  {
   "cell_type": "markdown",
   "metadata": {},
   "source": [
    "## Part A - Question 2\n",
    "\n",
    "Run the code below to see the value of alpha and how many iterations it took for the algorithm to converge."
   ]
  },
  {
   "cell_type": "code",
   "execution_count": 582,
   "metadata": {
    "collapsed": false
   },
   "outputs": [
    {
     "name": "stdout",
     "output_type": "stream",
     "text": [
      "The algorithm converged in 630 iterations\n",
      "The value of alpha is: 0.05\n"
     ]
    }
   ],
   "source": [
    "if numIts < 0:\n",
    "    print \"The algorithm did not converge.\"\n",
    "else:\n",
    "    print \"The algorithm converged in \" + str(numIts) + \" iterations\"\n",
    "    print \"The value of alpha is: \" + str(alpha)"
   ]
  },
  {
   "cell_type": "markdown",
   "metadata": {},
   "source": [
    "Part B - The Cost Function [15 points]\n",
    "\n",
    "Compute and save the cost function for each iteration of your gradient\n",
    "descent algorithm. Plot the cost function over the iteration number to answer\n",
    "the following questions.\n",
    "\n",
    "Note, if you are not obtaining the correct solution in Part A, you will not be\n",
    "deducted points for this in Part B. However, use whatever solution you are\n",
    "obtaining for Part A to answer the questions below.\n",
    "\n",
    "1. What value of alpha is too large and what happens to the cost function\n",
    "over the number of iterations? Plot this scenario.\n",
    "2. Plot a scenario where the model seems to be converging. What does the\n",
    "cost function look like over the number of iterations and what is the value\n",
    "of alpha? "
   ]
  },
  {
   "cell_type": "code",
   "execution_count": 7,
   "metadata": {
    "collapsed": false
   },
   "outputs": [],
   "source": [
    "import matplotlib.pyplot as plt\n",
    "%matplotlib inline\n",
    "\n",
    "# Cost of the model based on given theta and data\n",
    "def calculateCost(theta, X, Y):\n",
    "    # calculate the hypothesis first\n",
    "    hyp = hypothesis(theta, X)\n",
    "    \n",
    "    # apply the logistic regression cost function and return it\n",
    "    return -np.mean(Y * np.log(hyp) + (1 - Y) * np.log(1 - hyp))\n",
    "\n",
    "def plotCostFunc(alpha):\n",
    "    theta, computedCost, numIts = gradientDescent2(alpha)\n",
    "\n",
    "    # print number of iterations to converge, value of alpha and thetas\n",
    "    printParams(numIts, alpha, theta)\n",
    "\n",
    "    # showing cost function over 500 iterations\n",
    "    plt.plot(computedCost[:500])\n",
    "    plt.xlabel('Iteration')\n",
    "    plt.ylabel('Cost')\n",
    "    \n",
    "def gradientDescent2(alpha):\n",
    "    \n",
    "    # set the two initial theta values to 0\n",
    "    theta = np.array([0, 0], dtype = float)\n",
    "    \n",
    "    # set converged to False (so loop can be used)\n",
    "    converged = False\n",
    "    \n",
    "    # set the number of iterations to 0 (will be increased in the loop)\n",
    "    numIterations = 0\n",
    "    \n",
    "    # create an empty array where cost values will be stored later\n",
    "    cost = []\n",
    "    \n",
    "    # while loop is active as long as convergence criteria has not been met and num of iterations are under 10,000 (can be changed)\n",
    "    while not converged and numIterations < 10000:\n",
    "        # store the theta in a prevThetas array\n",
    "        prevThetas = np.array(theta)\n",
    "        \n",
    "        # apply the gradient descent formula to update the theta\n",
    "        theta = theta - alpha * (hypothesis(theta, X) - Y).dot(X)\n",
    "        \n",
    "        # calculate the cost for that iteration and store it in a cost array\n",
    "        cost.append(calculateCost(theta, X, Y))\n",
    "        \n",
    "        # convergence criteria set to 0.000001\n",
    "        converged = abs(np.max(theta - prevThetas)) < 0.000001\n",
    "        \n",
    "        # increment num. of iterations by one\n",
    "        numIterations += 1\n",
    "        \n",
    "    # if the algorithm did not converge, set the num. of iterations to -1\n",
    "    if not converged:\n",
    "        numIterations = -1\n",
    "        \n",
    "    # return the theta, cost array and the num. of iterations\n",
    "    return theta, cost, numIterations"
   ]
  },
  {
   "cell_type": "markdown",
   "metadata": {},
   "source": [
    "## Part B - Question 1\n",
    "\n",
    "Run the code below to see a plot of what the cost function looks like over number of iterations when alpha value is too large.  \n",
    "(Make sure to run the code above first to initialize the values and get an output)   \n",
    "\n",
    "A value of alpha that is too large means that the algorithm will skip the minima and will not converge due to its high value. "
   ]
  },
  {
   "cell_type": "code",
   "execution_count": 343,
   "metadata": {
    "collapsed": false,
    "scrolled": false
   },
   "outputs": [
    {
     "name": "stderr",
     "output_type": "stream",
     "text": [
      "C:\\Users\\KARLOS\\Anaconda2\\lib\\site-packages\\ipykernel\\__main__.py:10: RuntimeWarning: divide by zero encountered in log\n",
      "C:\\Users\\KARLOS\\Anaconda2\\lib\\site-packages\\ipykernel\\__main__.py:10: RuntimeWarning: invalid value encountered in multiply\n"
     ]
    },
    {
     "name": "stdout",
     "output_type": "stream",
     "text": [
      "The algorithm did not converge.\n"
     ]
    },
    {
     "data": {
      "image/png": "[encoded data removed]",
      "text/plain": [
       "<matplotlib.figure.Figure at 0xd82c7f0>"
      ]
     },
     "metadata": {},
     "output_type": "display_data"
    }
   ],
   "source": [
    "plotCostFunc(0.2)"
   ]
  },
  {
   "cell_type": "markdown",
   "metadata": {},
   "source": [
    "## Part B - Question 2\n",
    "\n",
    "Run the code below to see a plot of what the model looks like where it seems to be converging, including the plot of cost function and the value of alpha.\n",
    "(Make sure to run the code above first to initialize the function and get an output)"
   ]
  },
  {
   "cell_type": "code",
   "execution_count": 344,
   "metadata": {
    "collapsed": false,
    "scrolled": false
   },
   "outputs": [
    {
     "name": "stdout",
     "output_type": "stream",
     "text": [
      "The algorithm converged in 630 iterations\n",
      "The optimal theta values are: [-4.07751502  1.50457826]\n",
      "The value of alpha is: 0.05\n"
     ]
    },
    {
     "data": {
      "image/png": "[encoded data removed]",
      "text/plain": [
       "<matplotlib.figure.Figure at 0xe8820f0>"
      ]
     },
     "metadata": {},
     "output_type": "display_data"
    }
   ],
   "source": [
    "plotCostFunc(0.05)"
   ]
  },
  {
   "cell_type": "markdown",
   "metadata": {},
   "source": [
    "Part C - Sklearn Library [15 points]\n",
    "\n",
    "Use the sklearn library function to validate your results. The function\n",
    "linear_model.SGDClassifier implements gradient descent and the function\n",
    "argument loss = ‘log’ applies logistic regression.\n",
    "\n",
    "1. How many iterations are required for the algorithm to converge?\n",
    "2. Print out the model parameters learned by your model.\n",
    "3. What is your model’s prediction for 5 hours of studying? "
   ]
  },
  {
   "cell_type": "code",
   "execution_count": 543,
   "metadata": {
    "collapsed": false
   },
   "outputs": [],
   "source": [
    "from sklearn.linear_model import SGDClassifier\n",
    "\n",
    "# load the data\n",
    "X = [[0.50],[0.75],[1.00],[1.25],[1.50],[1.75],[1.75],[2.00],[2.25],[2.50],[2.75], [3.00],[3.25],[3.50],[4.00],[4.25],[4.50],[4.75],[5.00],[5.50]]\n",
    "Y = [0,0,0,0,0,0,1,0,1,0,1,0,1,0,1,1,1,1,1,1]\n",
    "\n",
    "# create a model using stochastic gradient descent as \"log\" as function argument to implement logistic regression, then fit the data\n",
    "model = SGDClassifier(loss=\"log\", n_iter = 10000, alpha = 0.05, shuffle = False, penalty = None).fit(X, Y)"
   ]
  },
  {
   "cell_type": "markdown",
   "metadata": {},
   "source": [
    "## Part C - Question 1\n",
    "\n",
    "Run the code below to see the number of iterations that were required for the algorithm to converge  \n",
    "(Make sure to run the code above first to initialize the function and get an output)  "
   ]
  },
  {
   "cell_type": "code",
   "execution_count": null,
   "metadata": {
    "collapsed": true
   },
   "outputs": [],
   "source": []
  },
  {
   "cell_type": "markdown",
   "metadata": {},
   "source": [
    "## Part C - Question 2\n",
    "\n",
    "Run the code below to see the model parameters that were learned by my model  \n",
    "(Make sure to run the code above first to initialize the function and get an output)  "
   ]
  },
  {
   "cell_type": "code",
   "execution_count": 544,
   "metadata": {
    "collapsed": false,
    "scrolled": true
   },
   "outputs": [
    {
     "name": "stdout",
     "output_type": "stream",
     "text": [
      "{'warm_start': False, 'loss': 'log', 'n_jobs': 1, 'eta0': 0.0, 'verbose': 0, 'shuffle': False, 'fit_intercept': True, 'epsilon': 0.1, 'average': False, 'n_iter': 10000, 'penalty': None, 'power_t': 0.5, 'random_state': None, 'l1_ratio': 0.15, 'alpha': 0.05, 'learning_rate': 'optimal', 'class_weight': None}\n"
     ]
    }
   ],
   "source": [
    "print model.get_params()"
   ]
  },
  {
   "cell_type": "markdown",
   "metadata": {},
   "source": [
    "## Part C - Question 3\n",
    "\n",
    "Run the code below to see my model's prediction for 5 hours of studying  \n",
    "(Make sure to run the code above first to initialize the function and get an output)  "
   ]
  },
  {
   "cell_type": "code",
   "execution_count": 581,
   "metadata": {
    "collapsed": false,
    "scrolled": true
   },
   "outputs": [
    {
     "name": "stdout",
     "output_type": "stream",
     "text": [
      "The prediction for 5 hour studying is: [1]\n",
      "[[ 0.03275967  0.96724033]]\n"
     ]
    }
   ],
   "source": [
    "print \"The prediction for 5 hour studying is: \" + str(model.predict(5.00))\n",
    "print model.predict_proba(5.00)"
   ]
  }
 ],
 "metadata": {
  "anaconda-cloud": {},
  "kernelspec": {
   "display_name": "Python [conda root]",
   "language": "python",
   "name": "conda-root-py"
  },
  "language_info": {
   "codemirror_mode": {
    "name": "ipython",
    "version": 2
   },
   "file_extension": ".py",
   "mimetype": "text/x-python",
   "name": "python",
   "nbconvert_exporter": "python",
   "pygments_lexer": "ipython2",
   "version": "2.7.12"
  }
 },
 "nbformat": 4,
 "nbformat_minor": 1
}
